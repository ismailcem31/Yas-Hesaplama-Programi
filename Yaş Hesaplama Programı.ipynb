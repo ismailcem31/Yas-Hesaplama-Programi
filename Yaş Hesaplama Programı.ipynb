{
 "cells": [
  {
   "cell_type": "code",
   "execution_count": null,
   "id": "fd524682",
   "metadata": {},
   "outputs": [],
   "source": [
    "from datetime import datetime\n",
    " \n",
    "# Kullanıcının doğum tarihini al\n",
    "yil = int(input(\"Doğum yılınızı girin: \"))\n",
    "ay = int(input(\"Doğum ayınızı girin: \"))\n",
    "gun = int(input(\"Doğum gününüzü girin: \"))\n",
    " \n",
    "# Bugünün tarihini al\n",
    "bugun = datetime.now()\n",
    " \n",
    "# Yaşı hesapla\n",
    "yas = bugun.year - yil\n",
    " \n",
    "print(\"\\nYaşınız:\", yas)"
   ]
  }
 ],
 "metadata": {
  "kernelspec": {
   "display_name": "Python 3 (ipykernel)",
   "language": "python",
   "name": "python3"
  },
  "language_info": {
   "codemirror_mode": {
    "name": "ipython",
    "version": 3
   },
   "file_extension": ".py",
   "mimetype": "text/x-python",
   "name": "python",
   "nbconvert_exporter": "python",
   "pygments_lexer": "ipython3",
   "version": "3.11.3"
  }
 },
 "nbformat": 4,
 "nbformat_minor": 5
}
